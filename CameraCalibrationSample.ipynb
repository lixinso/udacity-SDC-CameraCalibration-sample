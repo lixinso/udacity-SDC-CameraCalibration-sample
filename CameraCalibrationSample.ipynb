{
 "cells": [
  {
   "cell_type": "code",
   "execution_count": 1,
   "metadata": {},
   "outputs": [],
   "source": [
    "import numpy as np\n",
    "import cv2 as cv\n",
    "import glob\n",
    "\n",
    "%matplotlib inline\n"
   ]
  },
  {
   "cell_type": "code",
   "execution_count": 2,
   "metadata": {},
   "outputs": [],
   "source": [
    "#termination criteria\n",
    "criteria = (cv.TERM_CRITERIA_EPS + cv.TERM_CRITERIA_MAX_ITER, 30, 0.001)"
   ]
  },
  {
   "cell_type": "code",
   "execution_count": 3,
   "metadata": {},
   "outputs": [],
   "source": [
    "FILE_NAME = \"calib_radial.jpg\"\n",
    "img = cv.imread(FILE_NAME)\n",
    "gray = cv.cvtColor(img, cv.COLOR_BGR2GRAY)"
   ]
  },
  {
   "cell_type": "code",
   "execution_count": 4,
   "metadata": {},
   "outputs": [],
   "source": [
    "#Find the chess board corners\n",
    "ret, corners = cv.findChessboardCorners(gray, (7,6), None)"
   ]
  },
  {
   "cell_type": "code",
   "execution_count": null,
   "metadata": {},
   "outputs": [],
   "source": [
    "objp = np.zeros((6*7, 3), np.float32)\n",
    "objp[:,:2] = np.mgrid[0:7, 0:6].T.reshape(-1,2)\n",
    "\n",
    "#Arrays to store object points and image points from all the images\n",
    "objpoints = [] #3d point in real world space\n",
    "imgpoints = [] #2d points in image plane\n",
    "\n",
    "\n",
    "    "
   ]
  },
  {
   "cell_type": "code",
   "execution_count": null,
   "metadata": {},
   "outputs": [],
   "source": [
    "if ret == True:\n",
    "    \n",
    "    print(\"111\")\n",
    "    objpoints.append(objp)\n",
    "    print(\"222\")\n",
    "    corners2 = cv.cornerSubPix(gray, corners, (11,11), (-1, -1), criteria)\n",
    "    print(\"333\")\n",
    "    imgpoints.append(corners)\n",
    "    print(\"444\")\n",
    "\n",
    "    cv.drawChessboardCorners(img, (7,6), corners2, ret)\n",
    "    print(\"555\")\n",
    "\n",
    "    cv.imshow('img', img)\n",
    "    print(\"666\")\n",
    "\n",
    "    cv.waitKey(0)\n",
    "    print(\"777\")\n",
    "    \n",
    "#cv.destroyAllWindows()"
   ]
  },
  {
   "cell_type": "code",
   "execution_count": null,
   "metadata": {},
   "outputs": [],
   "source": []
  }
 ],
 "metadata": {
  "kernelspec": {
   "display_name": "Python 3",
   "language": "python",
   "name": "python3"
  },
  "language_info": {
   "codemirror_mode": {
    "name": "ipython",
    "version": 3
   },
   "file_extension": ".py",
   "mimetype": "text/x-python",
   "name": "python",
   "nbconvert_exporter": "python",
   "pygments_lexer": "ipython3",
   "version": "3.5.2"
  },
  "widgets": {
   "state": {},
   "version": "1.1.2"
  }
 },
 "nbformat": 4,
 "nbformat_minor": 2
}
